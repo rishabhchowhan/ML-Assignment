{
 "cells": [
  {
   "cell_type": "code",
   "execution_count": 16,
   "metadata": {},
   "outputs": [
    {
     "name": "stdout",
     "output_type": "stream",
     "text": [
      "3.4\n",
      "3.875\n",
      "11.56\n",
      "-10.06\n",
      "-9.26\n",
      "-7.36\n",
      "-5.96\n",
      "-78.64\n",
      "-5.2\n",
      "-3.475\n",
      "18.07\n",
      "-0.229781\n",
      "4.65626\n"
     ]
    },
    {
     "data": {
      "image/png": "[encoded data removed]",
      "text/plain": [
       "<matplotlib.figure.Figure at 0x7f63146c09e8>"
      ]
     },
     "metadata": {},
     "output_type": "display_data"
    }
   ],
   "source": [
    "# Calculating mean\n",
    "import tensorflow as tf\n",
    "import numpy as np\n",
    "import matplotlib.pyplot as plt\n",
    "%matplotlib inline\n",
    "\n",
    "x = tf.constant([1.5,2.3,4.2,5.6], shape =[2,2], name = \"array_x\")\n",
    "y = tf.constant([2.5,3.3,4.3,5.4], shape =[2,2], name = \"array_y\")\n",
    "\n",
    "\n",
    "m1 = tf.reduce_mean(x)\n",
    "m2 = tf.reduce_mean(y)\n",
    "sess = tf.Session()\n",
    "print(sess.run(m1))\n",
    "print(sess.run(m2))\n",
    "\n",
    "\n",
    "# Variance\n",
    "# variance(x)=sum((x−mean(x))2)\n",
    "x = tf.constant([1.5,2.3,4.2,5.6], shape =[2,2], name = \"array_x\")\n",
    "y = tf.constant([2.5,3.3,4.3,5.4], shape =[2,2], name = \"array_y\")\n",
    "msq = tf.square(m1)\n",
    "print(sess.run(msq))\n",
    "a1 = tf.subtract(x[0,0],msq)\n",
    "a2 = tf.subtract(x[0,1],msq)\n",
    "a3 = tf.subtract(x[1,0],msq)\n",
    "a4 = tf.subtract(x[1,1],msq)\n",
    "print(sess.run(a1))\n",
    "print(sess.run(a2))\n",
    "print(sess.run(a3))\n",
    "print(sess.run(a4))\n",
    "s1 = tf.add(a1,a2)\n",
    "s2 = tf.add(s1,a3)\n",
    "s3 = tf.add(s2,a4)\n",
    "\n",
    "s4 = tf.add(s1,s2)\n",
    "sum = tf.add(s4,s3)\n",
    "print(sess.run(sum))\n",
    "\n",
    "\n",
    "# covariance=sum((x(i)−mean(x))∗(y(i)−mean(y)))\n",
    "# for array X\n",
    "b1 = tf.subtract(x[0,0],m1)\n",
    "b2 = tf.subtract(x[0,1],m1)\n",
    "b3 = tf.subtract(x[1,0],m1)\n",
    "b4 = tf.subtract(x[1,1],m1)\n",
    "\n",
    "su1 = tf.add(b1,b2)\n",
    "su2 = tf.add(su1,b3)\n",
    "su3 = tf.add(su2,b4)\n",
    "su4 = tf.add(su1,su2)\n",
    "sum1 = tf.add(su4,su3)\n",
    "\n",
    "print(sess.run(sum1))\n",
    "\n",
    "# For array Y\n",
    "\n",
    "c1 = tf.subtract(y[0,0],m2)\n",
    "c2 = tf.subtract(y[0,1],m2)\n",
    "c3 = tf.subtract(y[1,0],m2)\n",
    "c4 = tf.subtract(y[1,1],m2)\n",
    "\n",
    "sm1 = tf.add(c1,c2)\n",
    "sm2 = tf.add(sm1,c3)\n",
    "sm3 = tf.add(sm2,c4)\n",
    "sm4 = tf.add(sm1,sm2)\n",
    "sum2 = tf.add(sm4,sm3)\n",
    "\n",
    "print(sess.run(sum2))\n",
    "\n",
    "# multiply \n",
    "prod = tf.multiply(sum1,sum2)\n",
    "print(sess.run(prod))\n",
    "\n",
    "# c=covariance(x,y)/variance(x)\n",
    "\n",
    "c = tf.divide(prod,sum)\n",
    "print(sess.run(c))\n",
    "\n",
    "\n",
    "# m=mean(y)−c∗mean(x)\n",
    "\n",
    "var = tf.multiply(c,m1)\n",
    "m = tf.subtract(m2,var)\n",
    "print(sess.run(m))\n",
    "\n",
    "\n",
    "\n",
    "#------------------------------\n",
    "# Plotting the graph\n",
    "\n",
    "plt.plot([1.5,2.3,4.2,5.6],[2.5,3.3,4.3,5.4],'ro')\n",
    "plt.ylabel('instances')\n",
    "plt.show()"
   ]
  },
  {
   "cell_type": "code",
   "execution_count": 17,
   "metadata": {
    "collapsed": true
   },
   "outputs": [],
   "source": [
    "writer = tf.summary.FileWriter(\"/tmp/tboard/assign\", sess.graph)\n"
   ]
  },
  {
   "cell_type": "code",
   "execution_count": null,
   "metadata": {
    "collapsed": true
   },
   "outputs": [],
   "source": []
  }
 ],
 "metadata": {
  "kernelspec": {
   "display_name": "Python 3",
   "language": "python",
   "name": "python3"
  },
  "language_info": {
   "codemirror_mode": {
    "name": "ipython",
    "version": 3
   },
   "file_extension": ".py",
   "mimetype": "text/x-python",
   "name": "python",
   "nbconvert_exporter": "python",
   "pygments_lexer": "ipython3",
   "version": "3.6.1"
  }
 },
 "nbformat": 4,
 "nbformat_minor": 2
}
