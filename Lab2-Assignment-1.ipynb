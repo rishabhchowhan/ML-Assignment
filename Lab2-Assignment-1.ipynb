{
 "cells": [
  {
   "cell_type": "code",
   "execution_count": 43,
   "metadata": {},
   "outputs": [],
   "source": [
    "\n",
    "from __future__ import print_function\n",
    "\n",
    "import tensorflow as tf\n",
    "import numpy\n",
    "import matplotlib.pyplot as plt\n",
    "rng = numpy.random\n",
    "\n",
    "# for Trial - dataset = [[1, 1], [2, 3], [4, 3], [3, 2], [5, 5]]\n",
    "learning_rate = 0.005\n",
    "training_epochs = 1000\n",
    "display_step = 50\n",
    "\n",
    "\n",
    "train_X = numpy.asarray([1.,2.,4.,3.,5.])\n",
    "train_Y = numpy.asarray([1.,3.,3.,2.,5.])\n",
    "n_samples = train_X.shape[0]\n",
    "\n",
    "\n",
    "X = tf.placeholder(\"float\")\n",
    "Y = tf.placeholder(\"float\")\n",
    "\n",
    "\n",
    "W = tf.Variable(rng.randn(), name=\"weight\")\n",
    "b = tf.Variable(rng.randn(), name=\"bias\")\n",
    "\n",
    "\n",
    "pred = tf.add(tf.multiply(X, W), b)\n",
    "\n",
    "\n",
    "cost = tf.reduce_sum(tf.pow(pred-Y, 2))/(2*n_samples)\n"
   ]
  },
  {
   "cell_type": "code",
   "execution_count": 47,
   "metadata": {},
   "outputs": [
    {
     "name": "stdout",
     "output_type": "stream",
     "text": [
      "Epoch: 0050 cost= 0.242882490 W= 0.846651 b= 0.222467\n",
      "Epoch: 0100 cost= 0.242623761 W= 0.847481 b= 0.230379\n",
      "Epoch: 0150 cost= 0.242417902 W= 0.84574 b= 0.237257\n",
      "Epoch: 0200 cost= 0.242227644 W= 0.843943 b= 0.243813\n",
      "Epoch: 0250 cost= 0.242052585 W= 0.842215 b= 0.250096\n",
      "Epoch: 0300 cost= 0.241891578 W= 0.840557 b= 0.256117\n",
      "Epoch: 0350 cost= 0.241743445 W= 0.838969 b= 0.261889\n",
      "Epoch: 0400 cost= 0.241607100 W= 0.837447 b= 0.267421\n",
      "Epoch: 0450 cost= 0.241481617 W= 0.835988 b= 0.272723\n",
      "Epoch: 0500 cost= 0.241366178 W= 0.834589 b= 0.277805\n",
      "Epoch: 0550 cost= 0.241259962 W= 0.833249 b= 0.282676\n",
      "Epoch: 0600 cost= 0.241162181 W= 0.831964 b= 0.287345\n",
      "Epoch: 0650 cost= 0.241072178 W= 0.830732 b= 0.29182\n",
      "Epoch: 0700 cost= 0.240989417 W= 0.829552 b= 0.296109\n",
      "Epoch: 0750 cost= 0.240913197 W= 0.828421 b= 0.30022\n",
      "Epoch: 0800 cost= 0.240842894 W= 0.827336 b= 0.30416\n",
      "Epoch: 0850 cost= 0.240778282 W= 0.826297 b= 0.307937\n",
      "Epoch: 0900 cost= 0.240718842 W= 0.825301 b= 0.311557\n",
      "Epoch: 0950 cost= 0.240663961 W= 0.824346 b= 0.315026\n",
      "Epoch: 1000 cost= 0.240613535 W= 0.823431 b= 0.318352\n",
      "Optimization Finished!\n",
      "Training cost= 0.240614 W= 0.823431 b= 0.318352 \n",
      "\n"
     ]
    },
    {
     "data": {
      "image/png": "[encoded data removed]",
      "text/plain": [
       "<matplotlib.figure.Figure at 0x7f21b8319b00>"
      ]
     },
     "metadata": {},
     "output_type": "display_data"
    },
    {
     "name": "stdout",
     "output_type": "stream",
     "text": [
      "Testing... (Mean square loss Comparison)\n",
      "Testing cost= 4.96894\n",
      "Absolute mean square loss difference: 4.72832\n"
     ]
    },
    {
     "data": {
      "image/png": "[encoded data removed]",
      "text/plain": [
       "<matplotlib.figure.Figure at 0x7f21acfc15c0>"
      ]
     },
     "metadata": {},
     "output_type": "display_data"
    }
   ],
   "source": [
    "\n",
    "optimizer = tf.train.GradientDescentOptimizer(learning_rate).minimize(cost)\n",
    "\n",
    "\n",
    "init = tf.global_variables_initializer()\n",
    "\n",
    "\n",
    "with tf.Session() as sess:\n",
    "\n",
    "   \n",
    "    sess.run(init)\n",
    "\n",
    "    \n",
    "    for epoch in range(training_epochs):\n",
    "        for (x, y) in zip(train_X, train_Y):\n",
    "            sess.run(optimizer, feed_dict={X: x, Y: y})\n",
    "\n",
    "        \n",
    "        if (epoch+1) % display_step == 0:\n",
    "            c = sess.run(cost, feed_dict={X: train_X, Y:train_Y})\n",
    "            print(\"Epoch:\", '%04d' % (epoch+1), \"cost=\", \"{:.9f}\".format(c), \\\n",
    "                \"W=\", sess.run(W), \"b=\", sess.run(b))\n",
    "\n",
    "    print(\"Optimization Finished!\")\n",
    "    training_cost = sess.run(cost, feed_dict={X: train_X, Y: train_Y})\n",
    "    print(\"Training cost=\", training_cost, \"W=\", sess.run(W), \"b=\", sess.run(b), '\\n')\n",
    "\n",
    "    \n",
    "    plt.plot(train_X, train_Y, 'ro', label='Original data')\n",
    "    plt.plot(train_X, sess.run(W) * train_X + sess.run(b), label='Fitted line')\n",
    "    plt.legend()\n",
    "    plt.show()\n",
    "\n",
    "   \n",
    "    test_X = numpy.asarray([5.,6.,4.,1.])\n",
    "    test_Y = numpy.asarray([1.,4.,7.,5.])\n",
    "\n",
    "    print(\"Testing... (Mean square loss Comparison)\")\n",
    "    testing_cost = sess.run(\n",
    "        tf.reduce_sum(tf.pow(pred - Y, 2)) / (2 * test_X.shape[0]),\n",
    "        feed_dict={X: test_X, Y: test_Y})  # same function as cost above\n",
    "    print(\"Testing cost=\", testing_cost)\n",
    "    print(\"Absolute mean square loss difference:\", abs(\n",
    "        training_cost - testing_cost))\n",
    "\n",
    "    plt.plot(test_X, test_Y, 'bo', label='Testing data')\n",
    "    plt.plot(train_X, sess.run(W) * train_X + sess.run(b), label='Fitted line')\n",
    "    plt.legend()\n",
    "plt.show()"
   ]
  },
  {
   "cell_type": "code",
   "execution_count": null,
   "metadata": {
    "collapsed": true
   },
   "outputs": [],
   "source": []
  },
  {
   "cell_type": "code",
   "execution_count": null,
   "metadata": {
    "collapsed": true
   },
   "outputs": [],
   "source": []
  }
 ],
 "metadata": {
  "kernelspec": {
   "display_name": "Python 3",
   "language": "python",
   "name": "python3"
  },
  "language_info": {
   "codemirror_mode": {
    "name": "ipython",
    "version": 3
   },
   "file_extension": ".py",
   "mimetype": "text/x-python",
   "name": "python",
   "nbconvert_exporter": "python",
   "pygments_lexer": "ipython3",
   "version": "3.6.1"
  }
 },
 "nbformat": 4,
 "nbformat_minor": 2
}
